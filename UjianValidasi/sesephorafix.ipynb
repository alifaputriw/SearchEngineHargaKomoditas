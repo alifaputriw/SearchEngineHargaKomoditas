{
 "cells": [
  {
   "cell_type": "code",
   "execution_count": 1,
   "metadata": {},
   "outputs": [
    {
     "name": "stdout",
     "output_type": "stream",
     "text": [
      "https://www.sephora.co.id/categories/makeup/face/foundation?brands=342,254\n",
      "https://www.sephora.co.id/categories/makeup/face/powder?brands=342,254\n"
     ]
    }
   ],
   "source": [
    "from bs4 import BeautifulSoup\n",
    "import requests\n",
    "import urllib.request\n",
    "import csv\n",
    "from urllib.request import urlopen\n",
    "from datetime import datetime\n",
    "import time\n",
    "import pandas as pd\n",
    "import os\n",
    "import math\n",
    "from selenium import webdriver\n",
    "from selenium.webdriver.common.keys import Keys\n",
    "\n",
    "\n",
    "with open ('F:\\\\SKRIPSI\\\\Topik2\\\\UjianValidasi\\\\LinkURL\\\\url_sephora.csv') as f:\n",
    "    urls=(line.strip()for line in f)\n",
    "    sephora_list= []\n",
    "    for row in urls:\n",
    "        \n",
    "        row= row.replace('\"','')\n",
    "        print(row)\n",
    "        driver = webdriver.Firefox()\n",
    "        driver.get(row)\n",
    "        soup = BeautifulSoup(driver.page_source, \"html.parser\")\n",
    "       \n",
    "        all_product= soup.find_all('div', {'class':'col-6 col-lg-4 product-item'})\n",
    "        \n",
    "        for item in all_product:\n",
    "            try:\n",
    "                linkEcommerce = row\n",
    "            except :\n",
    "                linkEcommerce = ''\n",
    "            try:\n",
    "                idproduk= item.find_all('div',{'class':'product-card'})[0]\n",
    "                idProduk= idproduk.get('data-product-id')\n",
    "            except:\n",
    "                idProduk=''\n",
    "            try:\n",
    "                name= item.find_all('div',{'class':'product-card'})[0]\n",
    "                namaProduk= name.get('data-product-name')\n",
    "            except:\n",
    "                nameProduk=''\n",
    "            try:\n",
    "                brand= item.find_all('div',{'class':'product-card'})[0]\n",
    "                brandProduk= brand.get('data-product-brand')\n",
    "            except:\n",
    "                brandProduk=''\n",
    "            try:\n",
    "                link= item.find_all('a',{'class':'product-card-image-container'})[0]\n",
    "                link= link.get('href')\n",
    "                linkProduk= link.replace(link, 'https://www.sephora.co.id'+link)\n",
    "            except:\n",
    "                linkProduk=''\n",
    "            try:\n",
    "                hargaBaru= item.find_all('p',{'class':'product-price'})[0].text\n",
    "            except:\n",
    "                hargaBaru=''\n",
    "                \n",
    "            sep=[linkEcommerce, idProduk,namaProduk, brandProduk, linkProduk ,hargaBaru , datetime.now().strftime(\"%y-%m-%d %H:%M\")]\n",
    "            sephora_list.append(sep)\n",
    "    path = 'F:\\\\SKRIPSI\\\\Topik2\\\\UjianValidasi\\\\HasilScraper\\\\'\n",
    "    now = datetime.now()\n",
    "    filename = 'sephora_%s_%s_%s %s_%s_%s_%s.csv'%(now.day,now.month,now.year,now.hour,now.minute,now.second,now.microsecond)\n",
    "    df=pd.DataFrame(sephora_list, columns=['linkEcommerce','idProduk', 'namaProduk','brandProduk', 'linkProduk', 'hargaBaru', 'tgl update'])\n",
    "    df.to_csv(os.path.join(path, filename))    \n",
    "                \n",
    "        "
   ]
  },
  {
   "cell_type": "code",
   "execution_count": null,
   "metadata": {
    "collapsed": true
   },
   "outputs": [],
   "source": []
  }
 ],
 "metadata": {
  "kernelspec": {
   "display_name": "Python 3",
   "language": "python",
   "name": "python3"
  },
  "language_info": {
   "codemirror_mode": {
    "name": "ipython",
    "version": 3
   },
   "file_extension": ".py",
   "mimetype": "text/x-python",
   "name": "python",
   "nbconvert_exporter": "python",
   "pygments_lexer": "ipython3",
   "version": "3.6.3"
  }
 },
 "nbformat": 4,
 "nbformat_minor": 2
}
